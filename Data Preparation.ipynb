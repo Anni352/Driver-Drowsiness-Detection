{
 "cells": [
  {
   "cell_type": "code",
   "execution_count": 6,
   "metadata": {},
   "outputs": [],
   "source": [
    "import os\n",
    "import shutil\n",
    "import glob\n",
    "import random\n",
    "from tqdm import tqdm"
   ]
  },
  {
   "cell_type": "markdown",
   "metadata": {},
   "source": [
    "#\n",
    "subject ID:\n",
    "xxx\n",
    "\n",
    "image number:\n",
    "xxx\n",
    "\n",
    "gender:\n",
    "0 - male\n",
    "1 - famale\n",
    "\n",
    "glasses:\n",
    "0 - no\n",
    "1 - yes\n",
    "\n",
    "eye state:\n",
    "0 - close\n",
    "1 - open\n",
    "\n",
    "reflections:\n",
    "0 - none\n",
    "1 - low\n",
    "2 - high\n",
    "\n",
    "lighting conditions/image quality:\n",
    "0 - bad\n",
    "1 - good\n",
    "\n",
    "sensor type:\n",
    "01 - RealSense SR300 640x480\n",
    "02 - IDS Imaging, 1280x1024\n",
    "03 - Aptina Imagin 752x480\n",
    "\n",
    "example:\n",
    "s001_00123_0_0_0_0_0_01.png"
   ]
  },
  {
   "cell_type": "code",
   "execution_count": 7,
   "metadata": {},
   "outputs": [
    {
     "name": "stderr",
     "output_type": "stream",
     "text": [
      "0it [00:00, ?it/s]\n",
      "100%|██████████| 3242/3242 [00:05<00:00, 624.62it/s]\n",
      "100%|██████████| 1114/1114 [00:01<00:00, 700.93it/s]\n",
      "100%|██████████| 679/679 [00:00<00:00, 789.86it/s]\n",
      "100%|██████████| 1069/1069 [00:01<00:00, 814.40it/s]\n",
      "100%|██████████| 736/736 [00:01<00:00, 712.84it/s]\n",
      "100%|██████████| 1012/1012 [00:01<00:00, 719.46it/s]\n",
      "100%|██████████| 624/624 [00:00<00:00, 744.85it/s]\n",
      "100%|██████████| 832/832 [00:01<00:00, 827.94it/s]\n",
      "100%|██████████| 387/387 [00:00<00:00, 748.06it/s]\n",
      "100%|██████████| 399/399 [00:00<00:00, 828.13it/s]\n",
      "100%|██████████| 1648/1648 [00:02<00:00, 621.70it/s]\n",
      "100%|██████████| 8728/8728 [00:11<00:00, 751.17it/s]\n",
      "100%|██████████| 3605/3605 [00:04<00:00, 802.01it/s]\n",
      "100%|██████████| 8884/8884 [00:11<00:00, 747.76it/s]\n",
      "100%|██████████| 1132/1132 [00:01<00:00, 772.14it/s]\n",
      "100%|██████████| 1889/1889 [00:02<00:00, 771.80it/s]\n",
      "100%|██████████| 1648/1648 [00:02<00:00, 749.70it/s]\n",
      "100%|██████████| 4410/4410 [00:08<00:00, 501.61it/s]\n",
      "100%|██████████| 6175/6175 [00:11<00:00, 546.39it/s]\n",
      "100%|██████████| 704/704 [00:01<00:00, 502.34it/s]\n",
      "100%|██████████| 987/987 [00:01<00:00, 516.79it/s]\n",
      "100%|██████████| 382/382 [00:00<00:00, 640.99it/s]\n",
      "100%|██████████| 522/522 [00:00<00:00, 591.73it/s]\n",
      "100%|██████████| 752/752 [00:01<00:00, 549.09it/s]\n",
      "100%|██████████| 1502/1502 [00:02<00:00, 514.80it/s]\n",
      "100%|██████████| 1246/1246 [00:02<00:00, 596.69it/s]\n",
      "100%|██████████| 665/665 [00:01<00:00, 571.81it/s]\n",
      "100%|██████████| 736/736 [00:01<00:00, 572.42it/s]\n",
      "100%|██████████| 1393/1393 [00:02<00:00, 617.02it/s]\n",
      "100%|██████████| 1384/1384 [00:02<00:00, 601.82it/s]\n",
      "100%|██████████| 1738/1738 [00:03<00:00, 537.60it/s]\n",
      "100%|██████████| 6162/6162 [00:12<00:00, 481.33it/s]\n",
      "100%|██████████| 681/681 [00:01<00:00, 527.42it/s]\n",
      "100%|██████████| 739/739 [00:01<00:00, 604.10it/s]\n",
      "100%|██████████| 642/642 [00:01<00:00, 574.04it/s]\n",
      "100%|██████████| 6193/6193 [00:10<00:00, 604.45it/s]\n",
      "100%|██████████| 10257/10257 [00:17<00:00, 597.78it/s]\n"
     ]
    }
   ],
   "source": [
    "#Copy the path for the MRL Eye Dataset\n",
    "Raw_DIR= r'C:\\Users\\anime\\Documents\\Machine Learning Project\\Driver Drowsiness Detection using Deep Learning\\MRL Eye Data\\mrlEyes_2018_01'\n",
    "\n",
    "# Create the Open and Closed Eye folders if they don't exist\n",
    "Opened_Eyes = r'C:\\Users\\anime\\Documents\\Machine Learning Project\\Driver Drowsiness Detection using Deep Learning\\MRL Eye Data\\Prepared Data\\Eyes Opened'\n",
    "Closed_Eyes = r'C:\\Users\\anime\\Documents\\Machine Learning Project\\Driver Drowsiness Detection using Deep Learning\\MRL Eye Data\\Prepared Data\\Eyes Closed'\n",
    "os.makedirs(Opened_Eyes, exist_ok=True)\n",
    "os.makedirs(Closed_Eyes, exist_ok=True)\n",
    "\n",
    "#Split the images for Open Eyes and Close Eyes\n",
    "for dirpath, dirname, filenames in os.walk(Raw_DIR):\n",
    "    for i in tqdm([f for f in filenames if f.endswith('.png')]):\n",
    "        if i.split('_')[4]=='0':\n",
    "            shutil.copy(src=dirpath+'/'+i, dst=Closed_Eyes)\n",
    "        \n",
    "        elif i.split('_')[4]=='1':\n",
    "            shutil.copy(src=dirpath+'/'+i, dst=Opened_Eyes)"
   ]
  },
  {
   "cell_type": "code",
   "execution_count": 8,
   "metadata": {},
   "outputs": [],
   "source": [
    "source_folder_Eyes_Closed = r'C:\\Users\\anime\\Documents\\Machine Learning Project\\Driver Drowsiness Detection using Deep Learning\\MRL Eye Data\\Prepared Data\\Eyes Closed'\n",
    "source_folder_Eyes_Opened = r'C:\\Users\\anime\\Documents\\Machine Learning Project\\Driver Drowsiness Detection using Deep Learning\\MRL Eye Data\\Prepared Data\\Eyes Opened'\n",
    "train_folder_Close_Eyes = r'C:\\Users\\anime\\Documents\\Machine Learning Project\\Driver Drowsiness Detection using Deep Learning\\MRL Eye Data\\Prepared Data\\Train Data\\Close Eyes'\n",
    "train_folder_Open_Eyes = r'C:\\Users\\anime\\Documents\\Machine Learning Project\\Driver Drowsiness Detection using Deep Learning\\MRL Eye Data\\Prepared Data\\Train Data\\Open Eyes'\n",
    "test_folder_Close_Eyes = r'C:\\Users\\anime\\Documents\\Machine Learning Project\\Driver Drowsiness Detection using Deep Learning\\MRL Eye Data\\Prepared Data\\Test Data\\Close Eyes'\n",
    "test_folder_Open_Eyes = r'C:\\Users\\anime\\Documents\\Machine Learning Project\\Driver Drowsiness Detection using Deep Learning\\MRL Eye Data\\Prepared Data\\Test Data\\Open Eyes'\n",
    "\n",
    "# Create the train and test folders if they don't exist\n",
    "os.makedirs(train_folder_Close_Eyes, exist_ok=True)\n",
    "os.makedirs(train_folder_Open_Eyes, exist_ok=True)\n",
    "os.makedirs(test_folder_Close_Eyes, exist_ok=True)\n",
    "os.makedirs(test_folder_Open_Eyes, exist_ok=True)"
   ]
  },
  {
   "cell_type": "code",
   "execution_count": 11,
   "metadata": {},
   "outputs": [],
   "source": [
    "# Set the percentage split\n",
    "split_percentage = 0.8  # 80% for training, change as needed\n",
    "\n",
    "# List all files in the source folder\n",
    "all_files_Closed = os.listdir(source_folder_Eyes_Closed)\n",
    "random.shuffle(all_files_Closed)\n",
    "all_files_Opened = os.listdir(source_folder_Eyes_Opened)\n",
    "random.shuffle(all_files_Opened)\n",
    "\n",
    "# Determine the split index\n",
    "split_index_closed = int(split_percentage * len(all_files_Closed))\n",
    "split_index_opened = int(split_percentage * len(all_files_Opened))"
   ]
  },
  {
   "cell_type": "code",
   "execution_count": 12,
   "metadata": {},
   "outputs": [
    {
     "name": "stderr",
     "output_type": "stream",
     "text": [
      "100%|██████████| 6712/6712 [00:05<00:00, 1169.91it/s]\n",
      "100%|██████████| 1678/1678 [00:01<00:00, 1630.32it/s]\n"
     ]
    }
   ],
   "source": [
    "# Move files to the train folder of Closed Eyes\n",
    "for image_train_closed in tqdm(all_files_Closed[:split_index_closed]):\n",
    "    source_path = os.path.join(source_folder_Eyes_Closed, image_train_closed)\n",
    "    destination_path = os.path.join(train_folder_Close_Eyes, image_train_closed)\n",
    "    shutil.move(source_path, destination_path)\n",
    "\n",
    "# Move files to the test folder of Closed Eyes\n",
    "for image_test_closed in tqdm(all_files_Closed[split_index_closed:]):\n",
    "    source_path = os.path.join(source_folder_Eyes_Closed, image_test_closed)\n",
    "    destination_path = os.path.join(test_folder_Close_Eyes, image_test_closed)\n",
    "    shutil.move(source_path, destination_path)"
   ]
  },
  {
   "cell_type": "code",
   "execution_count": 14,
   "metadata": {},
   "outputs": [
    {
     "name": "stderr",
     "output_type": "stream",
     "text": [
      "100%|██████████| 34361/34361 [00:33<00:00, 1036.29it/s]\n",
      "100%|██████████| 8591/8591 [00:07<00:00, 1196.17it/s]\n"
     ]
    }
   ],
   "source": [
    "# Move files to the train folder of Opened Eyes\n",
    "for image_train_opened in tqdm(all_files_Opened[:split_index_opened]):\n",
    "    source_path = os.path.join(source_folder_Eyes_Opened, image_train_opened)\n",
    "    destination_path = os.path.join(train_folder_Open_Eyes, image_train_opened)\n",
    "    shutil.move(source_path, destination_path)\n",
    "\n",
    "# Move files to the test folder of Opened Eyes\n",
    "for image_test_opened in tqdm(all_files_Opened[split_index_opened:]):\n",
    "    source_path = os.path.join(source_folder_Eyes_Opened, image_test_opened)\n",
    "    destination_path = os.path.join(test_folder_Open_Eyes, image_test_opened)\n",
    "    shutil.move(source_path, destination_path)"
   ]
  },
  {
   "cell_type": "code",
   "execution_count": 15,
   "metadata": {},
   "outputs": [],
   "source": [
    "#Delete the Eyes Closed and Eyes Opened Folder as it is of no use\n",
    "os.rmdir(Opened_Eyes)\n",
    "os.rmdir(Closed_Eyes)"
   ]
  }
 ],
 "metadata": {
  "kernelspec": {
   "display_name": "Python 3",
   "language": "python",
   "name": "python3"
  },
  "language_info": {
   "codemirror_mode": {
    "name": "ipython",
    "version": 3
   },
   "file_extension": ".py",
   "mimetype": "text/x-python",
   "name": "python",
   "nbconvert_exporter": "python",
   "pygments_lexer": "ipython3",
   "version": "3.10.11"
  }
 },
 "nbformat": 4,
 "nbformat_minor": 4
}
